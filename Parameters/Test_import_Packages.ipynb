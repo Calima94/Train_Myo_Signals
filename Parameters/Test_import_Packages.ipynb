{
 "cells": [
  {
   "cell_type": "code",
   "execution_count": 62,
   "id": "patent-offering",
   "metadata": {},
   "outputs": [],
   "source": [
    "import pandas as pd\n",
    "import numpy as np\n",
    "import ast"
   ]
  },
  {
   "cell_type": "code",
   "execution_count": 64,
   "id": "brazilian-paper",
   "metadata": {},
   "outputs": [],
   "source": [
    "df = pd.read_csv(\"parameters.csv\",index_col=\"Parameter\")\n",
    "frequency = float(df.loc[\"frequency_of_capture\",\"Value\"])\n",
    "window_time = float(df.loc[\"window_time\",\"Value\"])\n",
    "n_of_channels_and_category= int((df.loc[\"n_of_channels_and_category\",\"Value\"]))\n",
    "sos_high_pass_= df.loc[\"sos_high_pass_\",\"Value\"]\n",
    "sos_high_pass_ = ast.literal_eval(sos_high_pass_)\n",
    "sos_bandstop_= df.loc[\"sos_bandstop_\",\"Value\"]\n",
    "sos_bandstop_ = ast.literal_eval(sos_bandstop_)\n",
    "layers_to_catch = df.loc[\"layers_to_catch\", \"Value\"]\n",
    "layers_to_catch = ast.literal_eval(layers_to_catch)\n",
    "filter_to_use= df.loc[\"filter_to_use\",\"Value\"]\n",
    "levels_to_use = int(df.loc[\"levels_to_use\",\"Value\"])\n",
    "type_matriz = df.loc[\"type_matrix\", \"Value\"]\n",
    "test_size = float(df.loc[\"test_size\",\"Value\"])\n",
    "random_state = int(df.loc[\"random_state\",\"Value\"])\n",
    "cv = int(df.loc[\"cv\",\"Value\"])\n",
    "file = df.loc[\"file\",\"Value\"]"
   ]
  },
  {
   "cell_type": "code",
   "execution_count": null,
   "id": "current-relay",
   "metadata": {},
   "outputs": [],
   "source": []
  },
  {
   "cell_type": "code",
   "execution_count": null,
   "id": "flexible-vaccine",
   "metadata": {},
   "outputs": [],
   "source": []
  },
  {
   "cell_type": "code",
   "execution_count": null,
   "id": "durable-performer",
   "metadata": {},
   "outputs": [],
   "source": []
  },
  {
   "cell_type": "code",
   "execution_count": 8,
   "id": "pleasant-shelter",
   "metadata": {},
   "outputs": [
    {
     "data": {
      "text/html": [
       "<div>\n",
       "<style scoped>\n",
       "    .dataframe tbody tr th:only-of-type {\n",
       "        vertical-align: middle;\n",
       "    }\n",
       "\n",
       "    .dataframe tbody tr th {\n",
       "        vertical-align: top;\n",
       "    }\n",
       "\n",
       "    .dataframe thead th {\n",
       "        text-align: right;\n",
       "    }\n",
       "</style>\n",
       "<table border=\"1\" class=\"dataframe\">\n",
       "  <thead>\n",
       "    <tr style=\"text-align: right;\">\n",
       "      <th></th>\n",
       "      <th>Value</th>\n",
       "      <th>Unity</th>\n",
       "      <th>Description</th>\n",
       "    </tr>\n",
       "    <tr>\n",
       "      <th>Parameter</th>\n",
       "      <th></th>\n",
       "      <th></th>\n",
       "      <th></th>\n",
       "    </tr>\n",
       "  </thead>\n",
       "  <tbody>\n",
       "    <tr>\n",
       "      <th>frequency_of_capture</th>\n",
       "      <td>200</td>\n",
       "      <td>Hz</td>\n",
       "      <td>Standard frequency used in Myo for capturing E...</td>\n",
       "    </tr>\n",
       "    <tr>\n",
       "      <th>window_time</th>\n",
       "      <td>250</td>\n",
       "      <td>ms</td>\n",
       "      <td>NaN</td>\n",
       "    </tr>\n",
       "    <tr>\n",
       "      <th>n_of_channels_and_category</th>\n",
       "      <td>8</td>\n",
       "      <td>NaN</td>\n",
       "      <td>8 sensors responsible for capturing EMG signal...</td>\n",
       "    </tr>\n",
       "    <tr>\n",
       "      <th>sos_high_pass_</th>\n",
       "      <td>[[1, -2, 1, 1, -1.7403676706835575771492585772...</td>\n",
       "      <td>NaN</td>\n",
       "      <td>10hz 'bandstop' and 15hz bandpass with 60db of...</td>\n",
       "    </tr>\n",
       "    <tr>\n",
       "      <th>sos_bandstop_</th>\n",
       "      <td>[[1, 0.622946104851632931342919619055464863777...</td>\n",
       "      <td>NaN</td>\n",
       "      <td>55 hz “bandstop” and 65 hz bandpass IIR 6th order</td>\n",
       "    </tr>\n",
       "    <tr>\n",
       "      <th>filter_to_use</th>\n",
       "      <td>db7</td>\n",
       "      <td>NaN</td>\n",
       "      <td>Daubechies 7</td>\n",
       "    </tr>\n",
       "    <tr>\n",
       "      <th>levels_to_use</th>\n",
       "      <td>4</td>\n",
       "      <td>NaN</td>\n",
       "      <td>Using 4 level layers</td>\n",
       "    </tr>\n",
       "    <tr>\n",
       "      <th>layers_to_catch</th>\n",
       "      <td>[1, 2]</td>\n",
       "      <td>NaN</td>\n",
       "      <td>Using de Layers D1 and C1</td>\n",
       "    </tr>\n",
       "    <tr>\n",
       "      <th>type_matrix</th>\n",
       "      <td>mav</td>\n",
       "      <td>NaN</td>\n",
       "      <td>Mean Avarege Value</td>\n",
       "    </tr>\n",
       "    <tr>\n",
       "      <th>test_size</th>\n",
       "      <td>0.3</td>\n",
       "      <td>NaN</td>\n",
       "      <td>30% of the samples will be for test and 70% fo...</td>\n",
       "    </tr>\n",
       "    <tr>\n",
       "      <th>random_state</th>\n",
       "      <td>42</td>\n",
       "      <td>NaN</td>\n",
       "      <td>Arbitary number to generate the test values</td>\n",
       "    </tr>\n",
       "    <tr>\n",
       "      <th>cv</th>\n",
       "      <td>5</td>\n",
       "      <td>NaN</td>\n",
       "      <td>Number used for Cross Validation</td>\n",
       "    </tr>\n",
       "    <tr>\n",
       "      <th>file</th>\n",
       "      <td>Raw_EMG_Data/train_with_openCV_list_16_05.csv</td>\n",
       "      <td>NaN</td>\n",
       "      <td>File containing the raw data to training</td>\n",
       "    </tr>\n",
       "  </tbody>\n",
       "</table>\n",
       "</div>"
      ],
      "text/plain": [
       "                                                                        Value  \\\n",
       "Parameter                                                                       \n",
       "frequency_of_capture                                                      200   \n",
       "window_time                                                               250   \n",
       "n_of_channels_and_category                                                  8   \n",
       "sos_high_pass_              [[1, -2, 1, 1, -1.7403676706835575771492585772...   \n",
       "sos_bandstop_               [[1, 0.622946104851632931342919619055464863777...   \n",
       "filter_to_use                                                             db7   \n",
       "levels_to_use                                                               4   \n",
       "layers_to_catch                                                        [1, 2]   \n",
       "type_matrix                                                               mav   \n",
       "test_size                                                                 0.3   \n",
       "random_state                                                               42   \n",
       "cv                                                                          5   \n",
       "file                            Raw_EMG_Data/train_with_openCV_list_16_05.csv   \n",
       "\n",
       "                           Unity  \\\n",
       "Parameter                          \n",
       "frequency_of_capture          Hz   \n",
       "window_time                   ms   \n",
       "n_of_channels_and_category   NaN   \n",
       "sos_high_pass_               NaN   \n",
       "sos_bandstop_                NaN   \n",
       "filter_to_use                NaN   \n",
       "levels_to_use                NaN   \n",
       "layers_to_catch              NaN   \n",
       "type_matrix                  NaN   \n",
       "test_size                    NaN   \n",
       "random_state                 NaN   \n",
       "cv                           NaN   \n",
       "file                         NaN   \n",
       "\n",
       "                                                                  Description  \n",
       "Parameter                                                                      \n",
       "frequency_of_capture        Standard frequency used in Myo for capturing E...  \n",
       "window_time                                                               NaN  \n",
       "n_of_channels_and_category  8 sensors responsible for capturing EMG signal...  \n",
       "sos_high_pass_              10hz 'bandstop' and 15hz bandpass with 60db of...  \n",
       "sos_bandstop_               55 hz “bandstop” and 65 hz bandpass IIR 6th order  \n",
       "filter_to_use                                                    Daubechies 7  \n",
       "levels_to_use                                            Using 4 level layers  \n",
       "layers_to_catch                                     Using de Layers D1 and C1  \n",
       "type_matrix                                                Mean Avarege Value  \n",
       "test_size                   30% of the samples will be for test and 70% fo...  \n",
       "random_state                      Arbitary number to generate the test values  \n",
       "cv                                           Number used for Cross Validation  \n",
       "file                                 File containing the raw data to training  "
      ]
     },
     "execution_count": 8,
     "metadata": {},
     "output_type": "execute_result"
    }
   ],
   "source": [
    "df = pd.read_csv(\"parameters.csv\",index_col=\"Parameter\")\n",
    "df"
   ]
  },
  {
   "cell_type": "code",
   "execution_count": 13,
   "id": "strange-activity",
   "metadata": {},
   "outputs": [],
   "source": [
    "frequency = df.loc[\"frequency_of_capture\",\"Value\"\n",
    "                ]"
   ]
  },
  {
   "cell_type": "code",
   "execution_count": 15,
   "id": "cross-selling",
   "metadata": {},
   "outputs": [],
   "source": [
    "frequency = float(frequency)"
   ]
  },
  {
   "cell_type": "code",
   "execution_count": 16,
   "id": "attended-guard",
   "metadata": {},
   "outputs": [
    {
     "data": {
      "text/plain": [
       "200.0"
      ]
     },
     "execution_count": 16,
     "metadata": {},
     "output_type": "execute_result"
    }
   ],
   "source": [
    "frequency"
   ]
  },
  {
   "cell_type": "code",
   "execution_count": 19,
   "id": "handmade-france",
   "metadata": {},
   "outputs": [
    {
     "data": {
      "text/plain": [
       "200.0"
      ]
     },
     "execution_count": 19,
     "metadata": {},
     "output_type": "execute_result"
    }
   ],
   "source": [
    "window_time = float(df.loc[\"frequency_of_capture\",\"Value\"\n",
    "                ])\n",
    "window_time"
   ]
  },
  {
   "cell_type": "code",
   "execution_count": 20,
   "id": "imposed-garlic",
   "metadata": {},
   "outputs": [],
   "source": [
    "n_of_channels_and_category= int((df.loc[\"n_of_channels_and_category\",\"Value\"\n",
    "                ]))"
   ]
  },
  {
   "cell_type": "code",
   "execution_count": 21,
   "id": "figured-howard",
   "metadata": {},
   "outputs": [
    {
     "data": {
      "text/plain": [
       "8"
      ]
     },
     "execution_count": 21,
     "metadata": {},
     "output_type": "execute_result"
    }
   ],
   "source": [
    "n_of_channels_and_category"
   ]
  },
  {
   "cell_type": "code",
   "execution_count": 29,
   "id": "vulnerable-sleep",
   "metadata": {},
   "outputs": [],
   "source": [
    "sos_high_pass_= df.loc[\"sos_high_pass_\",\"Value\"\n",
    "                ]"
   ]
  },
  {
   "cell_type": "code",
   "execution_count": 30,
   "id": "three-greek",
   "metadata": {},
   "outputs": [
    {
     "ename": "AttributeError",
     "evalue": "'str' object has no attribute 'astype'",
     "output_type": "error",
     "traceback": [
      "\u001b[0;31m---------------------------------------------------------------------------\u001b[0m",
      "\u001b[0;31mAttributeError\u001b[0m                            Traceback (most recent call last)",
      "\u001b[0;32m<ipython-input-30-ade463e93da1>\u001b[0m in \u001b[0;36m<module>\u001b[0;34m\u001b[0m\n\u001b[0;32m----> 1\u001b[0;31m \u001b[0msos_high_pass_\u001b[0m \u001b[0;34m=\u001b[0m \u001b[0msos_high_pass_\u001b[0m\u001b[0;34m.\u001b[0m\u001b[0mastype\u001b[0m\u001b[0;34m(\u001b[0m\u001b[0mfloat\u001b[0m\u001b[0;34m)\u001b[0m\u001b[0;34m\u001b[0m\u001b[0;34m\u001b[0m\u001b[0m\n\u001b[0m",
      "\u001b[0;31mAttributeError\u001b[0m: 'str' object has no attribute 'astype'"
     ]
    }
   ],
   "source": [
    "sos_high_pass_ = sos_high_pass_.astype(float)"
   ]
  },
  {
   "cell_type": "code",
   "execution_count": 31,
   "id": "external-invite",
   "metadata": {},
   "outputs": [],
   "source": [
    " import ast"
   ]
  },
  {
   "cell_type": "code",
   "execution_count": 32,
   "id": "demographic-wichita",
   "metadata": {},
   "outputs": [],
   "source": [
    "sos_high_pass_ = ast.literal_eval(sos_high_pass_)"
   ]
  },
  {
   "cell_type": "code",
   "execution_count": 34,
   "id": "amazing-connecticut",
   "metadata": {},
   "outputs": [
    {
     "data": {
      "text/plain": [
       "list"
      ]
     },
     "execution_count": 34,
     "metadata": {},
     "output_type": "execute_result"
    }
   ],
   "source": [
    "type(sos_high_pass_)"
   ]
  },
  {
   "cell_type": "code",
   "execution_count": 38,
   "id": "north-daughter",
   "metadata": {},
   "outputs": [],
   "source": [
    "sos_bandstop_= df.loc[\"sos_bandstop_\",\"Value\"\n",
    "                ]"
   ]
  },
  {
   "cell_type": "code",
   "execution_count": 39,
   "id": "crazy-stephen",
   "metadata": {},
   "outputs": [],
   "source": [
    "sos_bandstop_ = ast.literal_eval(sos_bandstop_)"
   ]
  },
  {
   "cell_type": "code",
   "execution_count": 40,
   "id": "hourly-innocent",
   "metadata": {},
   "outputs": [
    {
     "data": {
      "text/plain": [
       "[[1, 0.6229461048516329, 1, 1, 0.4092612842466118, 0.9449306857061232],\n",
       " [1, 0.6229461048516329, 1, 1, 0.7909373660043995, 0.9484268932390738],\n",
       " [1, 0.6229461048516329, 1, 1, 0.711063241242364, 0.8633463625166004],\n",
       " [1, 0.6229461048516329, 1, 1, 0.44152315615195126, 0.8568956816019382],\n",
       " [1, 0.6229461048516329, 1, 1, 0.612695780882883, 0.8143925650843772],\n",
       " [1, 0.6229461048516329, 1, 1, 0.5158154470124875, 0.8112967567043753]]"
      ]
     },
     "execution_count": 40,
     "metadata": {},
     "output_type": "execute_result"
    }
   ],
   "source": [
    "sos_bandstop_"
   ]
  },
  {
   "cell_type": "code",
   "execution_count": 59,
   "id": "north-creator",
   "metadata": {},
   "outputs": [],
   "source": [
    "layers_to_catch = df.loc[\"layers_to_catch\", \"Value\"]"
   ]
  },
  {
   "cell_type": "code",
   "execution_count": 60,
   "id": "desperate-rubber",
   "metadata": {},
   "outputs": [],
   "source": [
    "layers_to_catch = ast.literal_eval(layers_to_catch)"
   ]
  },
  {
   "cell_type": "code",
   "execution_count": 61,
   "id": "accessory-witch",
   "metadata": {},
   "outputs": [
    {
     "data": {
      "text/plain": [
       "[1, 2]"
      ]
     },
     "execution_count": 61,
     "metadata": {},
     "output_type": "execute_result"
    }
   ],
   "source": [
    "layers_to_catch"
   ]
  },
  {
   "cell_type": "code",
   "execution_count": 43,
   "id": "adolescent-folks",
   "metadata": {},
   "outputs": [
    {
     "data": {
      "text/plain": [
       "'db7'"
      ]
     },
     "execution_count": 43,
     "metadata": {},
     "output_type": "execute_result"
    }
   ],
   "source": [
    "filter_to_use= df.loc[\"filter_to_use\",\"Value\"\n",
    "                ]\n",
    "filter_to_use"
   ]
  },
  {
   "cell_type": "code",
   "execution_count": 46,
   "id": "local-connecticut",
   "metadata": {},
   "outputs": [],
   "source": [
    "levels_to_use = int(df.loc[\"levels_to_use\",\"Value\"\n",
    "                ])"
   ]
  },
  {
   "cell_type": "code",
   "execution_count": 47,
   "id": "cooperative-landing",
   "metadata": {},
   "outputs": [
    {
     "data": {
      "text/plain": [
       "4"
      ]
     },
     "execution_count": 47,
     "metadata": {},
     "output_type": "execute_result"
    }
   ],
   "source": [
    "levels_to_use"
   ]
  },
  {
   "cell_type": "code",
   "execution_count": 48,
   "id": "ongoing-criterion",
   "metadata": {},
   "outputs": [],
   "source": [
    "type_matriz = df.loc[\"type_matrix\", \"Value\"]"
   ]
  },
  {
   "cell_type": "code",
   "execution_count": 49,
   "id": "asian-sleep",
   "metadata": {},
   "outputs": [
    {
     "data": {
      "text/plain": [
       "'mav'"
      ]
     },
     "execution_count": 49,
     "metadata": {},
     "output_type": "execute_result"
    }
   ],
   "source": [
    "type_matriz"
   ]
  },
  {
   "cell_type": "code",
   "execution_count": 50,
   "id": "textile-cross",
   "metadata": {},
   "outputs": [],
   "source": [
    "test_size = float(df.loc[\"test_size\",\"Value\"\n",
    "                ])"
   ]
  },
  {
   "cell_type": "code",
   "execution_count": 51,
   "id": "graphic-sewing",
   "metadata": {},
   "outputs": [
    {
     "data": {
      "text/plain": [
       "0.3"
      ]
     },
     "execution_count": 51,
     "metadata": {},
     "output_type": "execute_result"
    }
   ],
   "source": [
    "test_size"
   ]
  },
  {
   "cell_type": "code",
   "execution_count": 52,
   "id": "powerful-shelf",
   "metadata": {},
   "outputs": [],
   "source": [
    "random_state = int(df.loc[\"random_state\",\"Value\"\n",
    "                ])"
   ]
  },
  {
   "cell_type": "code",
   "execution_count": 53,
   "id": "ambient-fortune",
   "metadata": {},
   "outputs": [
    {
     "data": {
      "text/plain": [
       "42"
      ]
     },
     "execution_count": 53,
     "metadata": {},
     "output_type": "execute_result"
    }
   ],
   "source": [
    "random_state"
   ]
  },
  {
   "cell_type": "code",
   "execution_count": 54,
   "id": "bigger-weight",
   "metadata": {},
   "outputs": [],
   "source": [
    "cv = int(df.loc[\"cv\",\"Value\"\n",
    "                ])"
   ]
  },
  {
   "cell_type": "code",
   "execution_count": 55,
   "id": "relative-reynolds",
   "metadata": {},
   "outputs": [
    {
     "data": {
      "text/plain": [
       "5"
      ]
     },
     "execution_count": 55,
     "metadata": {},
     "output_type": "execute_result"
    }
   ],
   "source": [
    "cv"
   ]
  },
  {
   "cell_type": "code",
   "execution_count": 57,
   "id": "valuable-fruit",
   "metadata": {},
   "outputs": [],
   "source": [
    "file = df.loc[\"file\",\"Value\"\n",
    "                ]"
   ]
  },
  {
   "cell_type": "code",
   "execution_count": 58,
   "id": "filled-gender",
   "metadata": {},
   "outputs": [
    {
     "data": {
      "text/plain": [
       "'Raw_EMG_Data/train_with_openCV_list_16_05.csv'"
      ]
     },
     "execution_count": 58,
     "metadata": {},
     "output_type": "execute_result"
    }
   ],
   "source": [
    "file"
   ]
  },
  {
   "cell_type": "code",
   "execution_count": null,
   "id": "reasonable-letter",
   "metadata": {},
   "outputs": [],
   "source": []
  }
 ],
 "metadata": {
  "kernelspec": {
   "display_name": "Python 3",
   "language": "python",
   "name": "python3"
  },
  "language_info": {
   "codemirror_mode": {
    "name": "ipython",
    "version": 3
   },
   "file_extension": ".py",
   "mimetype": "text/x-python",
   "name": "python",
   "nbconvert_exporter": "python",
   "pygments_lexer": "ipython3",
   "version": "3.8.5"
  }
 },
 "nbformat": 4,
 "nbformat_minor": 5
}
